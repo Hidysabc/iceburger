{
 "cells": [
  {
   "cell_type": "markdown",
   "metadata": {},
   "source": [
    "## Load data"
   ]
  },
  {
   "cell_type": "code",
   "execution_count": 1,
   "metadata": {},
   "outputs": [
    {
     "name": "stderr",
     "output_type": "stream",
     "text": [
      "WARNING (theano.tensor.blas): Using NumPy C-API based implementation for BLAS functions.\n"
     ]
    }
   ],
   "source": [
    "import numpy as np\n",
    "import os\n",
    "import pandas as pd\n",
    "from fancyimpute import KNN"
   ]
  },
  {
   "cell_type": "code",
   "execution_count": 2,
   "metadata": {},
   "outputs": [],
   "source": [
    "PRJ = \"/workspace/iceburger\"\n",
    "DATA = os.path.join(PRJ, \"data/processed\")"
   ]
  },
  {
   "cell_type": "code",
   "execution_count": 3,
   "metadata": {},
   "outputs": [],
   "source": [
    "df = pd.read_json(os.path.join(DATA, \"train_valid.json\"))"
   ]
  },
  {
   "cell_type": "markdown",
   "metadata": {},
   "source": [
    "Convert na incidence angle to `np.NaN`"
   ]
  },
  {
   "cell_type": "code",
   "execution_count": 4,
   "metadata": {},
   "outputs": [],
   "source": [
    "df.loc[df.inc_angle == \"na\", \"inc_angle\"] = np.NaN\n",
    "df[\"inc_angle\"] = df.inc_angle.astype(float)"
   ]
  },
  {
   "cell_type": "code",
   "execution_count": 37,
   "metadata": {},
   "outputs": [],
   "source": [
    "X = np.concatenate(\n",
    "    [np.array(r.band_1 + r.band_2 + [r.inc_angle] + [r.is_iceberg])[np.newaxis, :]\n",
    "     for _, r in df.iterrows()], axis=0)"
   ]
  },
  {
   "cell_type": "code",
   "execution_count": 44,
   "metadata": {},
   "outputs": [
    {
     "name": "stdout",
     "output_type": "stream",
     "text": [
      "Imputing row 1/1604 with 0 missing, elapsed time: 130.069\n",
      "Imputing row 101/1604 with 0 missing, elapsed time: 130.070\n",
      "Imputing row 201/1604 with 0 missing, elapsed time: 130.071\n",
      "Imputing row 301/1604 with 1 missing, elapsed time: 130.071\n",
      "Imputing row 401/1604 with 0 missing, elapsed time: 130.072\n",
      "Imputing row 501/1604 with 0 missing, elapsed time: 130.072\n",
      "Imputing row 601/1604 with 1 missing, elapsed time: 130.073\n",
      "Imputing row 701/1604 with 0 missing, elapsed time: 130.075\n",
      "Imputing row 801/1604 with 0 missing, elapsed time: 130.075\n",
      "Imputing row 901/1604 with 0 missing, elapsed time: 130.075\n",
      "Imputing row 1001/1604 with 0 missing, elapsed time: 130.076\n",
      "Imputing row 1101/1604 with 0 missing, elapsed time: 130.076\n",
      "Imputing row 1201/1604 with 0 missing, elapsed time: 130.077\n",
      "Imputing row 1301/1604 with 0 missing, elapsed time: 130.077\n",
      "Imputing row 1401/1604 with 0 missing, elapsed time: 130.078\n",
      "Imputing row 1501/1604 with 0 missing, elapsed time: 130.078\n",
      "Imputing row 1601/1604 with 1 missing, elapsed time: 130.078\n"
     ]
    }
   ],
   "source": [
    "X_filled = KNN(k=11).complete(X)"
   ]
  },
  {
   "cell_type": "code",
   "execution_count": 46,
   "metadata": {},
   "outputs": [
    {
     "data": {
      "text/plain": [
       "133"
      ]
     },
     "execution_count": 46,
     "metadata": {},
     "output_type": "execute_result"
    }
   ],
   "source": [
    "df[\"inc_angle\"].isnull().sum()"
   ]
  },
  {
   "cell_type": "code",
   "execution_count": 47,
   "metadata": {},
   "outputs": [],
   "source": [
    "df[\"inc_angle\"] = X_filled[:, -2]"
   ]
  },
  {
   "cell_type": "code",
   "execution_count": 49,
   "metadata": {},
   "outputs": [
    {
     "data": {
      "text/plain": [
       "0"
      ]
     },
     "execution_count": 49,
     "metadata": {},
     "output_type": "execute_result"
    }
   ],
   "source": [
    "df[\"inc_angle\"].isnull().sum()"
   ]
  },
  {
   "cell_type": "code",
   "execution_count": 50,
   "metadata": {},
   "outputs": [],
   "source": [
    "df.to_json(os.path.join(DATA, \"train_valid_knn11_impute.json\"))"
   ]
  }
 ],
 "metadata": {
  "kernelspec": {
   "display_name": "Python 3",
   "language": "python",
   "name": "python3"
  },
  "language_info": {
   "codemirror_mode": {
    "name": "ipython",
    "version": 3
   },
   "file_extension": ".py",
   "mimetype": "text/x-python",
   "name": "python",
   "nbconvert_exporter": "python",
   "pygments_lexer": "ipython3",
   "version": "3.5.2"
  }
 },
 "nbformat": 4,
 "nbformat_minor": 2
}
